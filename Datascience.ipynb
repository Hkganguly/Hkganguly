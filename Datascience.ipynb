{
 "cells": [
  {
   "cell_type": "markdown",
   "id": "86b3c167",
   "metadata": {},
   "source": [
    "# Data Science Tools and Ecosystem"
   ]
  },
  {
   "cell_type": "markdown",
   "id": "d21e1cad",
   "metadata": {},
   "source": [
    "In this notebook, Data Science Tools and Ecosystem are summarized. "
   ]
  },
  {
   "cell_type": "markdown",
   "id": "eba00f23",
   "metadata": {},
   "source": [
    "Some of the popular languages that Data Scientists use are:\n",
    "   1. Python\n",
    "   2. Javascript\n",
    "   3. Julia"
   ]
  },
  {
   "cell_type": "markdown",
   "id": "5b7a97c5",
   "metadata": {},
   "source": [
    "Some of the commonly used libraries used by Data Scientists include:\n",
    " 1.Pandas\n",
    " 2.Numpy\n",
    " 3.Matplotlib"
   ]
  },
  {
   "cell_type": "markdown",
   "id": "8c63c6f3",
   "metadata": {},
   "source": [
    "|Data science Tools|\n",
    "--------------------\n",
    "|R studio|\n",
    "|Apache Spark|\n",
    "|Tensorflow|"
   ]
  },
  {
   "cell_type": "markdown",
   "id": "28dd205c",
   "metadata": {},
   "source": [
    "### Below are a few examples of evaluating arithmetic expressions in Python"
   ]
  },
  {
   "cell_type": "markdown",
   "id": "16b08ffe",
   "metadata": {},
   "source": [
    "This a simple arithmetic expression to mutiply then add integers."
   ]
  },
  {
   "cell_type": "code",
   "execution_count": 12,
   "id": "3a33e5db",
   "metadata": {},
   "outputs": [
    {
     "name": "stdout",
     "output_type": "stream",
     "text": [
      "17\n"
     ]
    }
   ],
   "source": [
    "print((3*4)+5)"
   ]
  },
  {
   "cell_type": "code",
   "execution_count": null,
   "id": "7c042eee",
   "metadata": {},
   "outputs": [],
   "source": [
    "This will convert 200 minutes to hours by diving by 60."
   ]
  },
  {
   "cell_type": "code",
   "execution_count": 14,
   "id": "bed30a67",
   "metadata": {},
   "outputs": [
    {
     "name": "stdout",
     "output_type": "stream",
     "text": [
      "3.3333333333333335\n"
     ]
    }
   ],
   "source": [
    "print(200/60)"
   ]
  },
  {
   "cell_type": "markdown",
   "id": "90551f3d",
   "metadata": {},
   "source": [
    "# Objectives:"
   ]
  },
  {
   "cell_type": "markdown",
   "id": "6d49f8cc",
   "metadata": {},
   "source": [
    "1.List popular languages for Data Science\n",
    "2.Commonly used Data Science libraries\n",
    "3.Commonly used Data Science Tools."
   ]
  },
  {
   "cell_type": "markdown",
   "id": "86b6031a",
   "metadata": {},
   "source": [
    "## Author"
   ]
  },
  {
   "cell_type": "markdown",
   "id": "6c9ebfe3",
   "metadata": {},
   "source": [
    "Hitesh Kumar Behera"
   ]
  },
  {
   "cell_type": "code",
   "execution_count": null,
   "id": "4eb366cf",
   "metadata": {},
   "outputs": [],
   "source": []
  }
 ],
 "metadata": {
  "kernelspec": {
   "display_name": "Python 3 (ipykernel)",
   "language": "python",
   "name": "python3"
  },
  "language_info": {
   "codemirror_mode": {
    "name": "ipython",
    "version": 3
   },
   "file_extension": ".py",
   "mimetype": "text/x-python",
   "name": "python",
   "nbconvert_exporter": "python",
   "pygments_lexer": "ipython3",
   "version": "3.10.9"
  }
 },
 "nbformat": 4,
 "nbformat_minor": 5
}
